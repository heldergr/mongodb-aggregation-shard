{
 "cells": [
  {
   "cell_type": "code",
   "execution_count": 38,
   "source": [
    "from pymongo import MongoClient\n",
    "import numpy as np"
   ],
   "outputs": [],
   "metadata": {}
  },
  {
   "cell_type": "code",
   "execution_count": 39,
   "source": [
    "client = MongoClient()\n",
    "db = client.teste_shard"
   ],
   "outputs": [],
   "metadata": {}
  },
  {
   "cell_type": "code",
   "execution_count": 46,
   "source": [
    "def criar_produto(produto, nome_shard):\n",
    "    return { 'produto': produto, 'nomeShard': nome_shard }\n",
    "\n",
    "def criar_produtos(produto, quantidade, nome_shard):\n",
    "    ps = []\n",
    "    for i in range(quantidade):\n",
    "        ps.append(criar_produto(produto=produto, nome_shard=nome_shard))\n",
    "    return ps"
   ],
   "outputs": [],
   "metadata": {}
  },
  {
   "cell_type": "code",
   "execution_count": 48,
   "source": [
    "db.dados4.delete_many({})\n",
    "specs = [\n",
    "    { 'produto': 'A', 'quantidade': 50, 'nomeShard': 5 },\n",
    "    { 'produto': 'B', 'quantidade': 40, 'nomeShard': 5 },\n",
    "    { 'produto': 'C', 'quantidade': 30, 'nomeShard': 5 },\n",
    "    { 'produto': 'F', 'quantidade': 20, 'nomeShard': 5 },\n",
    "    { 'produto': 'D', 'quantidade': 10, 'nomeShard': 5 },\n",
    "    { 'produto': 'A', 'quantidade': 50, 'nomeShard': 14 },\n",
    "    { 'produto': 'B', 'quantidade': 40, 'nomeShard': 14 },\n",
    "    { 'produto': 'F', 'quantidade': 30, 'nomeShard': 14 },\n",
    "    { 'produto': 'C', 'quantidade': 20, 'nomeShard': 14 },\n",
    "    { 'produto': 'E', 'quantidade': 10, 'nomeShard': 14 },\n",
    "    { 'produto': 'A', 'quantidade': 50, 'nomeShard': 23 },\n",
    "    { 'produto': 'E', 'quantidade': 40, 'nomeShard': 23 },\n",
    "    { 'produto': 'F', 'quantidade': 30, 'nomeShard': 23 },\n",
    "    { 'produto': 'B', 'quantidade': 20, 'nomeShard': 23 },\n",
    "    { 'produto': 'C', 'quantidade': 10, 'nomeShard': 23 }\n",
    "]\n",
    "for sp in specs:\n",
    "    produtos = criar_produtos(sp['produto'], sp['quantidade'], sp['nomeShard'])\n",
    "    db.dados4.insert_many(produtos)\n",
    "    # print(list(produtos))\n",
    "    print(f'Produtos inseridos para spec: {sp}')\n"
   ],
   "outputs": [
    {
     "output_type": "stream",
     "name": "stdout",
     "text": [
      "Produtos inseridos para spec: {'produto': 'A', 'quantidade': 50, 'nomeShard': 5}\n",
      "Produtos inseridos para spec: {'produto': 'B', 'quantidade': 40, 'nomeShard': 5}\n",
      "Produtos inseridos para spec: {'produto': 'C', 'quantidade': 30, 'nomeShard': 5}\n",
      "Produtos inseridos para spec: {'produto': 'F', 'quantidade': 20, 'nomeShard': 5}\n",
      "Produtos inseridos para spec: {'produto': 'D', 'quantidade': 10, 'nomeShard': 5}\n",
      "Produtos inseridos para spec: {'produto': 'A', 'quantidade': 50, 'nomeShard': 14}\n",
      "Produtos inseridos para spec: {'produto': 'B', 'quantidade': 40, 'nomeShard': 14}\n",
      "Produtos inseridos para spec: {'produto': 'F', 'quantidade': 30, 'nomeShard': 14}\n",
      "Produtos inseridos para spec: {'produto': 'C', 'quantidade': 20, 'nomeShard': 14}\n",
      "Produtos inseridos para spec: {'produto': 'E', 'quantidade': 10, 'nomeShard': 14}\n",
      "Produtos inseridos para spec: {'produto': 'A', 'quantidade': 50, 'nomeShard': 23}\n",
      "Produtos inseridos para spec: {'produto': 'E', 'quantidade': 40, 'nomeShard': 23}\n",
      "Produtos inseridos para spec: {'produto': 'F', 'quantidade': 30, 'nomeShard': 23}\n",
      "Produtos inseridos para spec: {'produto': 'B', 'quantidade': 20, 'nomeShard': 23}\n",
      "Produtos inseridos para spec: {'produto': 'C', 'quantidade': 10, 'nomeShard': 23}\n"
     ]
    }
   ],
   "metadata": {}
  },
  {
   "cell_type": "code",
   "execution_count": 19,
   "source": [
    "db.dados4.delete_many({})\n",
    "db.dados4.insert_many([\n",
    "    { 'produto': 'A', 'quantidade': 50, 'nomeShard': 5 },\n",
    "    { 'produto': 'B', 'quantidade': 40, 'nomeShard': 5 },\n",
    "    { 'produto': 'C', 'quantidade': 30, 'nomeShard': 5 },\n",
    "    { 'produto': 'F', 'quantidade': 20, 'nomeShard': 5 },\n",
    "    { 'produto': 'D', 'quantidade': 10, 'nomeShard': 5 },\n",
    "    { 'produto': 'A', 'quantidade': 50, 'nomeShard': 14 },\n",
    "    { 'produto': 'B', 'quantidade': 40, 'nomeShard': 14 },\n",
    "    { 'produto': 'F', 'quantidade': 30, 'nomeShard': 14 },\n",
    "    { 'produto': 'C', 'quantidade': 20, 'nomeShard': 14 },\n",
    "    { 'produto': 'E', 'quantidade': 10, 'nomeShard': 14 },\n",
    "    { 'produto': 'A', 'quantidade': 50, 'nomeShard': 23 },\n",
    "    { 'produto': 'E', 'quantidade': 40, 'nomeShard': 23 },\n",
    "    { 'produto': 'F', 'quantidade': 30, 'nomeShard': 23 },\n",
    "    { 'produto': 'B', 'quantidade': 20, 'nomeShard': 23 },\n",
    "    { 'produto': 'C', 'quantidade': 10, 'nomeShard': 23 }\n",
    "])"
   ],
   "outputs": [
    {
     "output_type": "execute_result",
     "data": {
      "text/plain": [
       "<pymongo.results.InsertManyResult at 0x7f929b0bd100>"
      ]
     },
     "metadata": {},
     "execution_count": 19
    }
   ],
   "metadata": {}
  },
  {
   "cell_type": "code",
   "execution_count": 15,
   "source": [
    "stages = [\n",
    "    {\n",
    "        '$group': {\n",
    "            '_id': '$produto', \n",
    "            'total': {\n",
    "                '$sum': '$quantidade'\n",
    "            }\n",
    "        }\n",
    "    }, {\n",
    "        '$sort': {\n",
    "            'total': -1\n",
    "        }\n",
    "    }, {\n",
    "        '$limit': 3\n",
    "    }\n",
    "]"
   ],
   "outputs": [],
   "metadata": {}
  },
  {
   "cell_type": "code",
   "execution_count": 20,
   "source": [
    "list(db.dados4.aggregate(stages))"
   ],
   "outputs": [
    {
     "output_type": "execute_result",
     "data": {
      "text/plain": [
       "[{'_id': 'A', 'total': 150},\n",
       " {'_id': 'B', 'total': 100},\n",
       " {'_id': 'F', 'total': 80}]"
      ]
     },
     "metadata": {},
     "execution_count": 20
    }
   ],
   "metadata": {}
  }
 ],
 "metadata": {
  "orig_nbformat": 4,
  "language_info": {
   "name": "python",
   "version": "3.8.12",
   "mimetype": "text/x-python",
   "codemirror_mode": {
    "name": "ipython",
    "version": 3
   },
   "pygments_lexer": "ipython3",
   "nbconvert_exporter": "python",
   "file_extension": ".py"
  },
  "kernelspec": {
   "name": "python3",
   "display_name": "Python 3.8.12 64-bit ('mas-venv': venv)"
  },
  "interpreter": {
   "hash": "3d83f66bcb6a24a370269d57fc5b519e8baedf01899f4a71842d7d3d18544aba"
  }
 },
 "nbformat": 4,
 "nbformat_minor": 2
}